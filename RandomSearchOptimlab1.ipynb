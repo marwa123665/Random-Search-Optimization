{
 "cells": [
  {
   "cell_type": "code",
   "execution_count": 93,
   "metadata": {},
   "outputs": [],
   "source": [
    "class City:\n",
    "    def __init__(self,name,longtitude,latitude):\n",
    "        self.name = name\n",
    "        self.longtitude = longtitude\n",
    "        self.latitude = latitude\n",
    "class TravelSalesMan:\n",
    "    def __init__(self,city_list):\n",
    "        self.city_list = city_list\n",
    "    def Random_start_city(self):\n",
    "        return self.city_list[-1]\n",
    "    def Calc_euclidean_distance(self,city1,city2):\n",
    "        return ((city1.longtitude-city2.longtitude)**2+(city1.latitude-city2.latitude)**2)**0.5\n",
    "    def checkSolution(self,solution):\n",
    "        #make a solution list of city names to append in it and check with the city_list\n",
    "        if len(solution)!=len(self.city_list):\n",
    "            return False\n",
    "        return True\n",
    "        \n"
   ]
  },
  {
   "cell_type": "code",
   "execution_count": 2,
   "metadata": {},
   "outputs": [
    {
     "data": {
      "text/html": [
       "<div>\n",
       "<style scoped>\n",
       "    .dataframe tbody tr th:only-of-type {\n",
       "        vertical-align: middle;\n",
       "    }\n",
       "\n",
       "    .dataframe tbody tr th {\n",
       "        vertical-align: top;\n",
       "    }\n",
       "\n",
       "    .dataframe thead th {\n",
       "        text-align: right;\n",
       "    }\n",
       "</style>\n",
       "<table border=\"1\" class=\"dataframe\">\n",
       "  <thead>\n",
       "    <tr style=\"text-align: right;\">\n",
       "      <th></th>\n",
       "      <th>City</th>\n",
       "      <th>x</th>\n",
       "      <th>y</th>\n",
       "    </tr>\n",
       "  </thead>\n",
       "  <tbody>\n",
       "    <tr>\n",
       "      <th>0</th>\n",
       "      <td>1</td>\n",
       "      <td>5.500000e-08</td>\n",
       "      <td>9.860000e-09</td>\n",
       "    </tr>\n",
       "    <tr>\n",
       "      <th>1</th>\n",
       "      <td>2</td>\n",
       "      <td>-2.887330e+01</td>\n",
       "      <td>-7.980000e-08</td>\n",
       "    </tr>\n",
       "    <tr>\n",
       "      <th>2</th>\n",
       "      <td>3</td>\n",
       "      <td>-7.929160e+01</td>\n",
       "      <td>-2.140330e+01</td>\n",
       "    </tr>\n",
       "    <tr>\n",
       "      <th>3</th>\n",
       "      <td>4</td>\n",
       "      <td>-1.465770e+01</td>\n",
       "      <td>-4.338960e+01</td>\n",
       "    </tr>\n",
       "    <tr>\n",
       "      <th>4</th>\n",
       "      <td>5</td>\n",
       "      <td>-6.474730e+01</td>\n",
       "      <td>2.189820e+01</td>\n",
       "    </tr>\n",
       "  </tbody>\n",
       "</table>\n",
       "</div>"
      ],
      "text/plain": [
       "   City             x             y\n",
       "0     1  5.500000e-08  9.860000e-09\n",
       "1     2 -2.887330e+01 -7.980000e-08\n",
       "2     3 -7.929160e+01 -2.140330e+01\n",
       "3     4 -1.465770e+01 -4.338960e+01\n",
       "4     5 -6.474730e+01  2.189820e+01"
      ]
     },
     "execution_count": 2,
     "metadata": {},
     "output_type": "execute_result"
    }
   ],
   "source": [
    "# import pandas as pd\n",
    "# import numpy as np\n",
    "# data=pd.read_csv('Data set CSV.csv')\n",
    "# data.head()"
   ]
  },
  {
   "cell_type": "code",
   "execution_count": 11,
   "metadata": {},
   "outputs": [],
   "source": [
    "def read_csv(file):\n",
    "    with open(file,'r') as f:\n",
    "        data = f.readlines()[1:]\n",
    "        city_list = []\n",
    "        for line in data:\n",
    "            line = line.strip().split(',')\n",
    "            city = City(line[0],float(line[1]),float(line[2]))\n",
    "            city_list.append(city)\n",
    "        return city_list\n",
    "city_list = read_csv('Data set CSV.csv')\n",
    "# for city in city_list:\n",
    "#     print(city.name,city.longtitude,city.latitude)"
   ]
  },
  {
   "cell_type": "code",
   "execution_count": 107,
   "metadata": {},
   "outputs": [],
   "source": [
    "travel = TravelSalesMan(city_list)\n",
    "city1 = travel.Random_start_city()\n",
    "visited={city1.name:0}"
   ]
  },
  {
   "cell_type": "code",
   "execution_count": 108,
   "metadata": {},
   "outputs": [
    {
     "name": "stdout",
     "output_type": "stream",
     "text": [
      "{'15': 0, '9': 10.318773936321119, '5': 20.358579404342038, '7': 22.92069009063996, '3': 22.75820510045028, '12': 20.412598306928, '14': 10.401326935540487, '10': 22.760032284687117, '8': 14.549321997261593, '6': 22.70224944471363, '4': 14.401837905281393, '11': 20.63515020221954, '1': 28.72962105340484, '13': 22.710147825297707, '2': 10.390598409359272}\n"
     ]
    }
   ],
   "source": [
    "\n",
    "def make_solution(city1):\n",
    "    distances = {}\n",
    "    cities=[]\n",
    "    for city2 in city_list:\n",
    "        if city2.name not in list(visited.keys()):\n",
    "            cities.append(city2)\n",
    "    for city2 in cities:\n",
    "        distance=travel.Calc_euclidean_distance(city1,city2)\n",
    "        #print(distance)\n",
    "        if distance!=0:\n",
    "            distances[city2.name]=distance\n",
    "    distances = dict(sorted(distances.items(),key=lambda x:x[1]))\n",
    "\n",
    "    first_city=list(distances.keys())[0]\n",
    "    visited[first_city]=distances[first_city]\n",
    "while True:\n",
    "    x=list(visited.keys())[-1]\n",
    "    index=int(x)-1\n",
    " \n",
    "    make_solution(city_list[index])\n",
    "    if travel.checkSolution(visited.keys()):\n",
    "        break\n",
    "   \n",
    "print(visited)"
   ]
  },
  {
   "cell_type": "code",
   "execution_count": 111,
   "metadata": {},
   "outputs": [
    {
     "data": {
      "text/plain": [
       "264.04913289644696"
      ]
     },
     "execution_count": 111,
     "metadata": {},
     "output_type": "execute_result"
    }
   ],
   "source": [
    "sum(visited.values())"
   ]
  },
  {
   "cell_type": "code",
   "execution_count": 113,
   "metadata": {},
   "outputs": [
    {
     "data": {
      "image/png": "[encoded data removed]",
      "text/plain": [
       "<Figure size 640x480 with 1 Axes>"
      ]
     },
     "metadata": {},
     "output_type": "display_data"
    }
   ],
   "source": [
    "import matplotlib.pyplot as plt\n",
    "x=[]\n",
    "y=[]\n",
    "for city in visited.keys():\n",
    "    x.append(city_list[int(city)-1].longtitude)\n",
    "    y.append(city_list[int(city)-1].latitude)\n",
    "plt.plot(x,y)\n",
    "plt.show()"
   ]
  },
  {
   "cell_type": "code",
   "execution_count": null,
   "metadata": {},
   "outputs": [],
   "source": []
  }
 ],
 "metadata": {
  "kernelspec": {
   "display_name": "Python 3",
   "language": "python",
   "name": "python3"
  },
  "language_info": {
   "codemirror_mode": {
    "name": "ipython",
    "version": 3
   },
   "file_extension": ".py",
   "mimetype": "text/x-python",
   "name": "python",
   "nbconvert_exporter": "python",
   "pygments_lexer": "ipython3",
   "version": "3.11.3"
  }
 },
 "nbformat": 4,
 "nbformat_minor": 2
}
